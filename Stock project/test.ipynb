{
 "cells": [
  {
   "cell_type": "code",
   "execution_count": null,
   "id": "da2ac28d",
   "metadata": {},
   "outputs": [],
   "source": [
    "import yfinance as yf\n",
    "import matplotlib as plt # 導入 matplotlib 模組以顯示圖表\n",
    "\n",
    "# 獲取台積電 (2330.TW) 的數據\n",
    "\n",
    "\n",
    "# 獲取最近5天的收盤價數據\n",
    "data = tw_2330.history(period=\"5d\")\n",
    "\n",
    "# 繪製收盤價圖表\n",
    "data['Close'].plot(title=\"TSMC (2330.TW) Close Price - Last 5 Days\") # 可以加上標題讓圖表更清晰\n",
    "\n",
    "# 顯示圖表\n",
    "plt.show()"
   ]
  },
  {
   "cell_type": "code",
   "execution_count": 20,
   "id": "72736997",
   "metadata": {},
   "outputs": [
    {
     "ename": "NameError",
     "evalue": "name 'tickers' is not defined",
     "output_type": "error",
     "traceback": [
      "\u001b[31m---------------------------------------------------------------------------\u001b[39m",
      "\u001b[31mNameError\u001b[39m                                 Traceback (most recent call last)",
      "\u001b[36mCell\u001b[39m\u001b[36m \u001b[39m\u001b[32mIn[20]\u001b[39m\u001b[32m, line 3\u001b[39m\n\u001b[32m      1\u001b[39m \u001b[38;5;28;01mimport\u001b[39;00m\u001b[38;5;250m \u001b[39m\u001b[34;01myfinance\u001b[39;00m\u001b[38;5;250m \u001b[39m\u001b[38;5;28;01mas\u001b[39;00m\u001b[38;5;250m \u001b[39m\u001b[34;01myf\u001b[39;00m\n\u001b[32m----> \u001b[39m\u001b[32m3\u001b[39m data = yf.download(\u001b[43mtickers\u001b[49m, start=\u001b[38;5;28;01mNone\u001b[39;00m, end=\u001b[38;5;28;01mNone\u001b[39;00m, interval=\u001b[33m\"\u001b[39m\u001b[33m5d\u001b[39m\u001b[33m\"\u001b[39m, group_by=\u001b[33m'\u001b[39m\u001b[33mtickers\u001b[39m\u001b[33m'\u001b[39m, auto_adjust=\u001b[38;5;28;01mFalse\u001b[39;00m, prepost=\u001b[38;5;28;01mFalse\u001b[39;00m, threads=\u001b[38;5;28;01mTrue\u001b[39;00m, proxy=\u001b[38;5;28;01mNone\u001b[39;00m)\n\u001b[32m      4\u001b[39m \u001b[38;5;28mprint\u001b[39m(data)\n",
      "\u001b[31mNameError\u001b[39m: name 'tickers' is not defined"
     ]
    }
   ],
   "source": [
    "import yfinance as yf\n",
    "\n",
    "data = yf.download(tickers, start=None, end=None, interval=\"5d\", group_by='tickers', auto_adjust=False, prepost=False, threads=True, proxy=None)\n",
    "print(data)"
   ]
  }
 ],
 "metadata": {
  "kernelspec": {
   "display_name": ".venv",
   "language": "python",
   "name": "python3"
  },
  "language_info": {
   "codemirror_mode": {
    "name": "ipython",
    "version": 3
   },
   "file_extension": ".py",
   "mimetype": "text/x-python",
   "name": "python",
   "nbconvert_exporter": "python",
   "pygments_lexer": "ipython3",
   "version": "3.13.2"
  }
 },
 "nbformat": 4,
 "nbformat_minor": 5
}
