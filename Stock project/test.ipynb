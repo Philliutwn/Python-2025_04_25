{
 "cells": [
  {
   "cell_type": "code",
   "execution_count": null,
   "id": "da2ac28d",
   "metadata": {},
   "outputs": [],
   "source": [
    "import yfinance as yf\n",
    "import matplotlib as plt # 導入 matplotlib 模組以顯示圖表\n",
    "\n",
    "# 獲取台積電 (2330.TW) 的數據\n",
    "\n",
    "\n",
    "# 獲取最近5天的收盤價數據\n",
    "data = tw_2330.history(period=\"5d\")\n",
    "\n",
    "# 繪製收盤價圖表\n",
    "data['Close'].plot(title=\"TSMC (2330.TW) Close Price - Last 5 Days\") # 可以加上標題讓圖表更清晰\n",
    "\n",
    "# 顯示圖表\n",
    "plt.show()"
   ]
  },
  {
   "cell_type": "code",
   "execution_count": null,
   "id": "72736997",
   "metadata": {},
   "outputs": [],
   "source": [
    "import yfinance as yf\n",
    "\n",
    "data = yf.download(ticker, start=None, end=None, interval=\"5d\", group_by='ticker', auto_adjust=False, prepost=False, threads=True, proxy=None)\n",
    "print(data)"
   ]
  }
 ],
 "metadata": {
  "kernelspec": {
   "display_name": "flask_env",
   "language": "python",
   "name": "python3"
  },
  "language_info": {
   "codemirror_mode": {
    "name": "ipython",
    "version": 3
   },
   "file_extension": ".py",
   "mimetype": "text/x-python",
   "name": "python",
   "nbconvert_exporter": "python",
   "pygments_lexer": "ipython3",
   "version": "3.13.2"
  }
 },
 "nbformat": 4,
 "nbformat_minor": 5
}
