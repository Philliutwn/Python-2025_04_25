{
 "cells": [
  {
   "cell_type": "code",
   "execution_count": 4,
   "id": "0698ae4d",
   "metadata": {},
   "outputs": [],
   "source": [
    "import pandas as pd\n",
    "import numpy as np\n",
    "\n",
    "def compute_rsi(series, period=14):\n",
    "    delta = series.diff()\n",
    "    gain = np.where(delta > 0, delta, 0)\n",
    "    loss = np.where(delta < 0, -delta, 0)\n",
    "    avg_gain = pd.Series(gain).rolling(window=period).mean()\n",
    "    avg_loss = pd.Series(loss).rolling(window=period).mean()\n",
    "    rs = avg_gain / avg_loss\n",
    "    rsi = 100 - (100 / (1 + rs))\n",
    "    return rsi\n",
    "\n",
    "def compute_macd(price, slow=26, fast=12, signal=9):\n",
    "    ema_fast = price.ewm(span=fast).mean()\n",
    "    ema_slow = price.ewm(span=slow).mean()\n",
    "    macd = ema_fast - ema_slow\n",
    "    signal_line = macd.ewm(span=signal).mean()\n",
    "    return macd, signal_line\n",
    "\n",
    "def compute_bollinger_bands(price, window=20, num_std=2):\n",
    "    ma = price.rolling(window=window).mean()\n",
    "    std = price.rolling(window=window).std()\n",
    "    upper_band = ma + num_std * std\n",
    "    lower_band = ma - num_std * std\n",
    "    return upper_band, lower_band\n",
    "\n",
    "\n",
    "# 1. 讀取資料\n",
    "df = pd.read_csv(\"2330TW_5years_data.csv\")\n",
    "\n",
    "# 2. 處理漲跌目標欄位\n",
    "df[\"Increase\"] = df[\"Increase\"].str.replace(\"%\", \"\").astype(float)\n",
    "df[\"Target\"] = (df[\"Increase\"] > 0).astype(int)\n",
    "\n",
    "# 3. 新增技術指標\n",
    "df[\"MA5\"] = df[\"Close\"].rolling(window=5).mean()\n",
    "df[\"MA10\"] = df[\"Close\"].rolling(window=10).mean()\n",
    "df[\"MA20\"] = df[\"Close\"].rolling(window=20).mean()\n",
    "df[\"Price_Change\"] = df[\"Close\"] - df[\"Open\"]\n",
    "# RSI\n",
    "df[\"RSI\"] = compute_rsi(df[\"Close\"])\n",
    "\n",
    "# MACD & Signal Line\n",
    "df[\"MACD\"], df[\"MACD_Signal\"] = compute_macd(df[\"Close\"])\n",
    "\n",
    "# Bollinger Bands\n",
    "df[\"BB_Upper\"], df[\"BB_Lower\"] = compute_bollinger_bands(df[\"Close\"])\n",
    "\n",
    "# 移除缺失值\n",
    "df.dropna(inplace=True)\n",
    "\n",
    "df.to_csv('tsmc2330.csv')"
   ]
  }
 ],
 "metadata": {
  "kernelspec": {
   "display_name": "mlops_env",
   "language": "python",
   "name": "python3"
  },
  "language_info": {
   "codemirror_mode": {
    "name": "ipython",
    "version": 3
   },
   "file_extension": ".py",
   "mimetype": "text/x-python",
   "name": "python",
   "nbconvert_exporter": "python",
   "pygments_lexer": "ipython3",
   "version": "3.13.2"
  }
 },
 "nbformat": 4,
 "nbformat_minor": 5
}
