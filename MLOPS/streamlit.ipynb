{
 "cells": [
  {
   "cell_type": "code",
   "execution_count": 2,
   "id": "bb070999",
   "metadata": {},
   "outputs": [
    {
     "name": "stderr",
     "output_type": "stream",
     "text": [
      "2025-06-15 22:16:52.261 Thread 'MainThread': missing ScriptRunContext! This warning can be ignored when running in bare mode.\n",
      "2025-06-15 22:16:52.268 Thread 'MainThread': missing ScriptRunContext! This warning can be ignored when running in bare mode.\n",
      "2025-06-15 22:16:52.280 Thread 'MainThread': missing ScriptRunContext! This warning can be ignored when running in bare mode.\n",
      "2025-06-15 22:16:52.284 Thread 'MainThread': missing ScriptRunContext! This warning can be ignored when running in bare mode.\n",
      "2025-06-15 22:16:52.396 Thread 'MainThread': missing ScriptRunContext! This warning can be ignored when running in bare mode.\n",
      "2025-06-15 22:16:52.399 Thread 'MainThread': missing ScriptRunContext! This warning can be ignored when running in bare mode.\n",
      "2025-06-15 22:16:52.417 Thread 'MainThread': missing ScriptRunContext! This warning can be ignored when running in bare mode.\n",
      "2025-06-15 22:16:52.425 Thread 'MainThread': missing ScriptRunContext! This warning can be ignored when running in bare mode.\n",
      "2025-06-15 22:16:52.426 Thread 'MainThread': missing ScriptRunContext! This warning can be ignored when running in bare mode.\n",
      "2025-06-15 22:16:52.428 Thread 'MainThread': missing ScriptRunContext! This warning can be ignored when running in bare mode.\n",
      "2025-06-15 22:16:52.429 Thread 'MainThread': missing ScriptRunContext! This warning can be ignored when running in bare mode.\n"
     ]
    }
   ],
   "source": [
    "import streamlit as st\n",
    "import pandas as pd\n",
    "import numpy as np\n",
    "import matplotlib.pyplot as plt\n",
    "\n",
    "# 標題與說明\n",
    "st.title('簡單的資料視覺化工具')\n",
    "st.write('使用 Streamlit 快速建立資料視覺化應用程式')\n",
    "\n",
    "# 產生隨機數據\n",
    "data = pd.DataFrame({\n",
    "    'A': np.random.randn(100),\n",
    "    'B': np.random.randn(100),\n",
    "    'C': np.random.randn(100)\n",
    "})\n",
    "\n",
    "# 讓使用者選擇要顯示的欄位\n",
    "columns = st.multiselect('選擇要顯示的欄位', data.columns)\n",
    "\n",
    "# 顯示選定的欄位資料與繪圖\n",
    "if columns:\n",
    "    st.dataframe(data[columns])\n",
    "    fig, ax = plt.subplots()\n",
    "    data[columns].plot(kind='line', ax=ax)\n",
    "    st.pyplot(fig)\n",
    "else:\n",
    "    st.write('請選擇至少一個欄位進行顯示')\n"
   ]
  }
 ],
 "metadata": {
  "kernelspec": {
   "display_name": "mlops_env",
   "language": "python",
   "name": "python3"
  },
  "language_info": {
   "codemirror_mode": {
    "name": "ipython",
    "version": 3
   },
   "file_extension": ".py",
   "mimetype": "text/x-python",
   "name": "python",
   "nbconvert_exporter": "python",
   "pygments_lexer": "ipython3",
   "version": "3.13.2"
  }
 },
 "nbformat": 4,
 "nbformat_minor": 5
}
