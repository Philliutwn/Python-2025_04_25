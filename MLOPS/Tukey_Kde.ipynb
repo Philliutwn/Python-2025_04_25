{
 "cells": [
  {
   "cell_type": "code",
   "execution_count": null,
   "id": "54c4a683",
   "metadata": {},
   "outputs": [],
   "source": [
    "# prompt: 在1977年於Exploratory data analysis 所發表的方式計算2330TW_5years_data.csv 欄位: Open, High, Low, Close 的離群值，並繪製盒鬚圖與常態分配圖\n",
    "\n",
    "import matplotlib.pyplot as plt\n",
    "import seaborn as sns\n",
    "\n",
    "# 選擇需要分析的欄位\n",
    "columns_to_analyze = ['Open', 'High', 'Low', 'Close']\n",
    "\n",
    "# 繪製盒鬚圖\n",
    "plt.figure(figsize=(12, 6))\n",
    "sns.boxplot(data=df[columns_to_analyze])\n",
    "plt.title('Box Plots for Stock Prices')\n",
    "plt.ylabel('Price')\n",
    "plt.show()\n",
    "\n",
    "# 計算離群值 (使用 IQR 方法)\n",
    "for col in columns_to_analyze:\n",
    "  Q1 = df[col].quantile(0.25)\n",
    "  Q3 = df[col].quantile(0.75)\n",
    "  IQR = Q3 - Q1\n",
    "  lower_bound = Q1 - 1.5 * IQR\n",
    "  upper_bound = Q3 + 1.5 * IQR\n",
    "  outliers = df[(df[col] < lower_bound) | (df[col] > upper_bound)]\n",
    "  print(f\"Outliers for {col}:\\n{outliers[['Date', col]]}\\n\")\n",
    "\n",
    "# 繪製常態分配圖 (直方圖和 Kde 曲線)\n",
    "plt.figure(figsize=(12, 8))\n",
    "for i, col in enumerate(columns_to_analyze):\n",
    "  plt.subplot(2, 2, i + 1)\n",
    "  sns.histplot(df[col], kde=True)\n",
    "  plt.title(f'Distribution of {col}')\n",
    "  plt.xlabel(col)\n",
    "  plt.ylabel('Frequency')\n",
    "plt.tight_layout()\n",
    "plt.show()\n",
    "\n",
    "# 繪製Q-Q圖來檢查常態性\n",
    "    plt.figure(figsize=(6, 6))\n",
    "    import statsmodels.api as sm\n",
    "    sm.qqplot(df[col].dropna(), line='s')\n",
    "    plt.title(f'Q-Q Plot of {col}')\n",
    "    plt.show()"
   ]
  },
  {
   "cell_type": "code",
   "execution_count": null,
   "id": "fbf96fab",
   "metadata": {},
   "outputs": [],
   "source": [
    "# 將離群值篩選出來寫入 ./content/drive/MyDrive/2025_tvdi_ML/deviation_test.csv 檔案\n",
    "outliers_list = []\n",
    "for col in columns_to_analyze:\n",
    "  Q1 = df[col].quantile(0.25)\n",
    "  Q3 = df[col].quantile(0.75)\n",
    "  IQR = Q3 - Q1\n",
    "  lower_bound = Q1 - 1.5 * IQR\n",
    "  upper_bound = Q3 + 1.5 * IQR\n",
    "  outliers = df[(df[col] < lower_bound) | (df[col] > upper_bound)]\n",
    "  outliers_list.append(outliers)\n",
    "\n",
    "all_outliers = pd.concat(outliers_list).drop_duplicates()\n",
    "all_outliers.to_csv('./content/drive/MyDrive/2025_tvdi_ML/deviation_test.csv', index=False)\n",
    "\n",
    "print(\"Outliers have been written to ./content/drive/MyDrive/2025_tvdi_ML/deviation_test.csv\")"
   ]
  }
 ],
 "metadata": {
  "language_info": {
   "name": "python"
  }
 },
 "nbformat": 4,
 "nbformat_minor": 5
}
