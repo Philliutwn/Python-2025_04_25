{
 "cells": [
  {
   "cell_type": "code",
   "execution_count": null,
   "id": "e2e869ce",
   "metadata": {},
   "outputs": [],
   "source": [
    "# 📊 XGBoost 特徵重要性分析\n",
    "xgb_importance = pd.Series(\n",
    "    xgb_model.feature_importances_, index=X.columns\n",
    ").sort_values(ascending=False)\n",
    "\n",
    "plt.figure(figsize=(10, 6))\n",
    "sns.barplot(x=xgb_importance[:20], y=xgb_importance.index[:20])\n",
    "plt.title(\"XGBoost Feature Importance (Top 20)\")\n",
    "plt.xlabel(\"Importance\")\n",
    "plt.show()\n",
    "\n",
    "# import xgboost as xgb\n",
    "# import matplotlib.pyplot as plt\n",
    "# xgb_model = XGBClassifier(use_label_encoder=False, eval_metric=\"logloss\")\n",
    "# xgb_model.fit(X_train, y_train)\n",
    "\n",
    "# # 顯示特徵重要性\n",
    "# xgb.plot_importance(xgb_model, max_num_features=15, height=0.5)\n",
    "# plt.title(\"Feature Importance from XGBoost\")\n",
    "# plt.show()"
   ]
  },
  {
   "cell_type": "markdown",
   "id": "06ee5953",
   "metadata": {},
   "source": [
    "## 以下僅供參考"
   ]
  },
  {
   "cell_type": "markdown",
   "id": "b35ce493",
   "metadata": {},
   "source": [
    "如果你關心的是預測「漲」的能力，這個模型的召回率偏低（0.49），可能會錯過很多機會；你可以考慮調整：\n",
    "\n",
    "類別權重（class_weight）\n",
    "\n",
    "決策閾值（threshold）"
   ]
  },
  {
   "cell_type": "code",
   "execution_count": null,
   "id": "d4950a0b",
   "metadata": {},
   "outputs": [],
   "source": [
    "#第一部分：調整類別權重\n",
    "#SVM 支援 class_weight='balanced' 或自定義權重。\n",
    "\n",
    "from sklearn.svm import SVC\n",
    "from sklearn.metrics import classification_report, confusion_matrix\n",
    "\n",
    "# 訓練 SVM，平衡類別權重\n",
    "svm_model = SVC(kernel='rbf', class_weight='balanced', probability=True)\n",
    "svm_model.fit(X_train, y_train)\n",
    "\n",
    "# 預測\n",
    "y_pred = svm_model.predict(X_test)\n",
    "\n",
    "# 評估結果\n",
    "print(\"SVM with balanced class weight:\")\n",
    "print(confusion_matrix(y_test, y_pred))\n",
    "print(classification_report(y_test, y_pred))\n"
   ]
  },
  {
   "cell_type": "code",
   "execution_count": null,
   "id": "9b9aa340",
   "metadata": {},
   "outputs": [],
   "source": [
    "#第二部分：調整預測的決策閾值\n",
    "#預設是 0.5，我們可以改成 0.4、0.3 等來觀察效果：\n",
    "\n",
    "import numpy as np\n",
    "\n",
    "# 預測為類別 1 的機率\n",
    "y_proba = svm_model.predict_proba(X_test)[:, 1]\n",
    "\n",
    "# 設定新的閾值（例如 0.4）\n",
    "threshold = 0.4\n",
    "y_pred_threshold = (y_proba >= threshold).astype(int)\n",
    "\n",
    "# 評估新閾值下的結果\n",
    "print(f\"SVM with threshold = {threshold}\")\n",
    "print(confusion_matrix(y_test, y_pred_threshold))\n",
    "print(classification_report(y_test, y_pred_threshold))\n"
   ]
  },
  {
   "cell_type": "code",
   "execution_count": null,
   "id": "d7adc6ea",
   "metadata": {},
   "outputs": [],
   "source": [
    "# 📊 特徵重要性分析 (以 XGBoost 為例)\n",
    "xgb_importance = pd.Series(\n",
    "    xgb_model.feature_importances_, index=X.columns\n",
    ").sort_values(ascending=False)\n",
    "\n",
    "plt.figure(figsize=(10, 6))\n",
    "sns.barplot(x=xgb_importance[:20], y=xgb_importance.index[:20])\n",
    "plt.title(\"XGBoost Feature Importance (Top 20)\")\n",
    "plt.xlabel(\"Importance\")\n",
    "plt.show()"
   ]
  },
  {
   "cell_type": "code",
   "execution_count": null,
   "id": "f5c2c44b",
   "metadata": {},
   "outputs": [],
   "source": [
    "import xgboost as xgb\n",
    "import matplotlib.pyplot as plt\n",
    "xgb_model = XGBClassifier(use_label_encoder=False, eval_metric=\"logloss\")\n",
    "xgb_model.fit(X_train, y_train)\n",
    "\n",
    "# 顯示特徵重要性\n",
    "xgb.plot_importance(xgb_model, max_num_features=15, height=0.5)\n",
    "plt.title(\"Feature Importance from XGBoost\")\n",
    "plt.show()"
   ]
  }
 ],
 "metadata": {
  "language_info": {
   "name": "python"
  }
 },
 "nbformat": 4,
 "nbformat_minor": 5
}
