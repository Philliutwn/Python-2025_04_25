{
 "cells": [
  {
   "cell_type": "code",
   "execution_count": 6,
   "metadata": {},
   "outputs": [
    {
     "name": "stderr",
     "output_type": "stream",
     "text": [
      "[*********************100%***********************]  1 of 1 completed\n"
     ]
    }
   ],
   "source": [
    "import yfinance as yf\n",
    "\n",
    "\n",
    "# 下載台積電股價資料\n",
    "data = yf.download(\n",
    "    [\"2330.TW\"],\n",
    "    start=\"2020-01-01\",\n",
    "    end=\"2025-06-04\",\n",
    "    interval=\"1d\",\n",
    "    group_by='ticker',\n",
    "    auto_adjust=True,\n",
    "    prepost=False,\n",
    "    threads=True,\n",
    "    proxy=None\n",
    ")\n",
    "\n",
    "# 將資料寫入 CSV 檔案\n",
    "data.to_csv(\"TW2330adj.CSV\", encoding=\"utf-8-sig\")\n",
    "\n"
   ]
  }
 ],
 "metadata": {
  "kernelspec": {
   "display_name": "mlops_env",
   "language": "python",
   "name": "python3"
  },
  "language_info": {
   "codemirror_mode": {
    "name": "ipython",
    "version": 3
   },
   "file_extension": ".py",
   "mimetype": "text/x-python",
   "name": "python",
   "nbconvert_exporter": "python",
   "pygments_lexer": "ipython3",
   "version": "3.13.2"
  }
 },
 "nbformat": 4,
 "nbformat_minor": 2
}
