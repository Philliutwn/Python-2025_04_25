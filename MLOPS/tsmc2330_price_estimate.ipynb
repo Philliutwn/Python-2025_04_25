{
 "cells": [
  {
   "cell_type": "markdown",
   "id": "3df0a394",
   "metadata": {},
   "source": [
    "### TSMC2330 Stock Price Estimate"
   ]
  },
  {
   "cell_type": "code",
   "execution_count": 4,
   "id": "649ab6b1",
   "metadata": {},
   "outputs": [
    {
     "ename": "SyntaxError",
     "evalue": "invalid syntax (2967348774.py, line 6)",
     "output_type": "error",
     "traceback": [
      "  \u001b[36mCell\u001b[39m\u001b[36m \u001b[39m\u001b[32mIn[4]\u001b[39m\u001b[32m, line 6\u001b[39m\n\u001b[31m    \u001b[39m\u001b[31mfrom scikit-learn.model_selection import train_test_split\u001b[39m\n               ^\n\u001b[31mSyntaxError\u001b[39m\u001b[31m:\u001b[39m invalid syntax\n"
     ]
    }
   ],
   "source": [
    "\n",
    "\n",
    "import pandas as pd\n",
    "import numpy as np\n",
    "import matplotlib.pyplot as plt\n",
    "import seaborn as sns\n",
    "from ta import add_all_ta_features\n",
    "from scikit-learn.model_selection import train_test_split\n",
    "from scikit-learn.tree import DecisionTreeClassifier\n",
    "from scikit-learn.ensemble import RandomForestClassifier\n",
    "from scikit-learn.linear_model import LogisticRegression\n",
    "from xgboost import XGBClassifier\n",
    "from scikit-learn.metrics import classification_report, confusion_matrix, accuracy_score"
   ]
  }
 ],
 "metadata": {
  "kernelspec": {
   "display_name": "mlops_env",
   "language": "python",
   "name": "python3"
  },
  "language_info": {
   "codemirror_mode": {
    "name": "ipython",
    "version": 3
   },
   "file_extension": ".py",
   "mimetype": "text/x-python",
   "name": "python",
   "nbconvert_exporter": "python",
   "pygments_lexer": "ipython3",
   "version": "3.13.2"
  }
 },
 "nbformat": 4,
 "nbformat_minor": 5
}
