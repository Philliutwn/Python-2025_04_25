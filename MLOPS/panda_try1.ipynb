{
 "cells": [
  {
   "cell_type": "code",
   "execution_count": 9,
   "id": "5da04f60",
   "metadata": {},
   "outputs": [
    {
     "data": {
      "text/plain": [
       "RangeIndex(start=0, stop=5, step=1)"
      ]
     },
     "execution_count": 9,
     "metadata": {},
     "output_type": "execute_result"
    }
   ],
   "source": [
    "import pandas as pd\n",
    "s=pd.Series([1, 2, 3, 4, 5])\n",
    "s.index\n",
    "\n"
   ]
  },
  {
   "cell_type": "code",
   "execution_count": 10,
   "id": "9f35e917",
   "metadata": {},
   "outputs": [
    {
     "data": {
      "text/plain": [
       "array([1, 2, 3, 4, 5])"
      ]
     },
     "execution_count": 10,
     "metadata": {},
     "output_type": "execute_result"
    }
   ],
   "source": [
    "s.values"
   ]
  },
  {
   "cell_type": "code",
   "execution_count": 11,
   "id": "84d062ee",
   "metadata": {},
   "outputs": [
    {
     "data": {
      "text/plain": [
       "100    中正區\n",
       "103    大同區\n",
       "104    中山區\n",
       "105    松山區\n",
       "106    大安區\n",
       "108    萬華區\n",
       "110    信義區\n",
       "111    士林區\n",
       "dtype: object"
      ]
     },
     "execution_count": 11,
     "metadata": {},
     "output_type": "execute_result"
    }
   ],
   "source": [
    "zip_codes = {'100':'中正區','103':'大同區','104':'中山區','105':'松山區',\n",
    "             '106':'大安區','108':'萬華區','110':'信義區','111':'士林區',}\n",
    "a=pd.Series(zip_codes)\n",
    "a\n",
    "\n"
   ]
  },
  {
   "cell_type": "code",
   "execution_count": 14,
   "id": "7748b8aa",
   "metadata": {},
   "outputs": [
    {
     "name": "stdout",
     "output_type": "stream",
     "text": [
      "104    中山區\n",
      "105    松山區\n",
      "dtype: object\n"
     ]
    },
    {
     "name": "stderr",
     "output_type": "stream",
     "text": [
      "C:\\Users\\phil_\\AppData\\Local\\Temp\\ipykernel_632\\2540665606.py:1: FutureWarning: Series.__getitem__ treating keys as positions is deprecated. In a future version, integer keys will always be treated as labels (consistent with DataFrame behavior). To access a value by position, use `ser.iloc[pos]`\n",
      "  print(a[[2,3]])\n"
     ]
    }
   ],
   "source": [
    "print(a[[2,3]])"
   ]
  },
  {
   "cell_type": "code",
   "execution_count": 17,
   "id": "e0791800",
   "metadata": {},
   "outputs": [
    {
     "data": {
      "text/html": [
       "<div>\n",
       "<style scoped>\n",
       "    .dataframe tbody tr th:only-of-type {\n",
       "        vertical-align: middle;\n",
       "    }\n",
       "\n",
       "    .dataframe tbody tr th {\n",
       "        vertical-align: top;\n",
       "    }\n",
       "\n",
       "    .dataframe thead th {\n",
       "        text-align: right;\n",
       "    }\n",
       "</style>\n",
       "<table border=\"1\" class=\"dataframe\">\n",
       "  <thead>\n",
       "    <tr style=\"text-align: right;\">\n",
       "      <th></th>\n",
       "      <th>city</th>\n",
       "      <th>pop</th>\n",
       "      <th>area</th>\n",
       "    </tr>\n",
       "  </thead>\n",
       "  <tbody>\n",
       "    <tr>\n",
       "      <th>0</th>\n",
       "      <td>台北市</td>\n",
       "      <td>2631083</td>\n",
       "      <td>271.7997</td>\n",
       "    </tr>\n",
       "    <tr>\n",
       "      <th>1</th>\n",
       "      <td>新北市</td>\n",
       "      <td>4024539</td>\n",
       "      <td>2052.5667</td>\n",
       "    </tr>\n",
       "    <tr>\n",
       "      <th>2</th>\n",
       "      <td>桃園市</td>\n",
       "      <td>2255753</td>\n",
       "      <td>1220.9540</td>\n",
       "    </tr>\n",
       "    <tr>\n",
       "      <th>3</th>\n",
       "      <td>台中市</td>\n",
       "      <td>2816741</td>\n",
       "      <td>2214.8968</td>\n",
       "    </tr>\n",
       "    <tr>\n",
       "      <th>4</th>\n",
       "      <td>台南市</td>\n",
       "      <td>1878845</td>\n",
       "      <td>2191.6531</td>\n",
       "    </tr>\n",
       "    <tr>\n",
       "      <th>5</th>\n",
       "      <td>高雄市</td>\n",
       "      <td>2773401</td>\n",
       "      <td>2951.8524</td>\n",
       "    </tr>\n",
       "  </tbody>\n",
       "</table>\n",
       "</div>"
      ],
      "text/plain": [
       "  city      pop       area\n",
       "0  台北市  2631083   271.7997\n",
       "1  新北市  4024539  2052.5667\n",
       "2  桃園市  2255753  1220.9540\n",
       "3  台中市  2816741  2214.8968\n",
       "4  台南市  1878845  2191.6531\n",
       "5  高雄市  2773401  2951.8524"
      ]
     },
     "execution_count": 17,
     "metadata": {},
     "output_type": "execute_result"
    }
   ],
   "source": [
    "taiwan ={'city':['台北市','新北市','桃園市','台中市','台南市','高雄市'],\n",
    "        'pop':[2631083, 4024539, 2255753, 2816741, 1878845, 2773401],\n",
    "        'area':[271.7997, 2052.5667, 1220.9540, 2214.8968, 2191.6531, 2951.8524],}\n",
    "s=pd.DataFrame(taiwan)\n",
    "s"
   ]
  },
  {
   "cell_type": "code",
   "execution_count": 20,
   "id": "11a7dc71",
   "metadata": {},
   "outputs": [
    {
     "name": "stdout",
     "output_type": "stream",
     "text": [
      "  city      pop       area\n",
      "0  台北市  2631083   271.7997\n",
      "1  新北市  4024539  2052.5667\n",
      "2  桃園市  2255753  1220.9540\n",
      "3  台中市  2816741  2214.8968\n",
      "4  台南市  1878845  2191.6531\n",
      "5  高雄市  2773401  2951.8524\n"
     ]
    }
   ],
   "source": [
    "print(s)"
   ]
  },
  {
   "cell_type": "code",
   "execution_count": 25,
   "id": "d9e1a135",
   "metadata": {},
   "outputs": [
    {
     "data": {
      "text/html": [
       "<div>\n",
       "<style scoped>\n",
       "    .dataframe tbody tr th:only-of-type {\n",
       "        vertical-align: middle;\n",
       "    }\n",
       "\n",
       "    .dataframe tbody tr th {\n",
       "        vertical-align: top;\n",
       "    }\n",
       "\n",
       "    .dataframe thead th {\n",
       "        text-align: right;\n",
       "    }\n",
       "</style>\n",
       "<table border=\"1\" class=\"dataframe\">\n",
       "  <thead>\n",
       "    <tr style=\"text-align: right;\">\n",
       "      <th></th>\n",
       "      <th>pop</th>\n",
       "      <th>city</th>\n",
       "      <th>area</th>\n",
       "    </tr>\n",
       "  </thead>\n",
       "  <tbody>\n",
       "    <tr>\n",
       "      <th>0</th>\n",
       "      <td>2631083</td>\n",
       "      <td>台北市</td>\n",
       "      <td>271.7997</td>\n",
       "    </tr>\n",
       "    <tr>\n",
       "      <th>1</th>\n",
       "      <td>4024539</td>\n",
       "      <td>新北市</td>\n",
       "      <td>2052.5667</td>\n",
       "    </tr>\n",
       "    <tr>\n",
       "      <th>2</th>\n",
       "      <td>2255753</td>\n",
       "      <td>桃園市</td>\n",
       "      <td>1220.9540</td>\n",
       "    </tr>\n",
       "    <tr>\n",
       "      <th>3</th>\n",
       "      <td>2816741</td>\n",
       "      <td>台中市</td>\n",
       "      <td>2214.8968</td>\n",
       "    </tr>\n",
       "    <tr>\n",
       "      <th>4</th>\n",
       "      <td>1878845</td>\n",
       "      <td>台南市</td>\n",
       "      <td>2191.6531</td>\n",
       "    </tr>\n",
       "    <tr>\n",
       "      <th>5</th>\n",
       "      <td>2773401</td>\n",
       "      <td>高雄市</td>\n",
       "      <td>2951.8524</td>\n",
       "    </tr>\n",
       "  </tbody>\n",
       "</table>\n",
       "</div>"
      ],
      "text/plain": [
       "       pop city       area\n",
       "0  2631083  台北市   271.7997\n",
       "1  4024539  新北市  2052.5667\n",
       "2  2255753  桃園市  1220.9540\n",
       "3  2816741  台中市  2214.8968\n",
       "4  1878845  台南市  2191.6531\n",
       "5  2773401  高雄市  2951.8524"
      ]
     },
     "execution_count": 25,
     "metadata": {},
     "output_type": "execute_result"
    }
   ],
   "source": [
    "bigsix = pd.DataFrame(taiwan, columns = ['pop','city','area'])\n",
    "bigsix"
   ]
  },
  {
   "cell_type": "code",
   "execution_count": 26,
   "id": "070b02f5",
   "metadata": {},
   "outputs": [
    {
     "data": {
      "text/plain": [
       "pop      2255753\n",
       "city         桃園市\n",
       "area    1220.954\n",
       "Name: 2, dtype: object"
      ]
     },
     "execution_count": 26,
     "metadata": {},
     "output_type": "execute_result"
    }
   ],
   "source": [
    "bigsix .loc[2]"
   ]
  },
  {
   "cell_type": "code",
   "execution_count": 27,
   "id": "2e63a2db",
   "metadata": {},
   "outputs": [
    {
     "data": {
      "text/plain": [
       "pop      2255753\n",
       "city         桃園市\n",
       "area    1220.954\n",
       "Name: 2, dtype: object"
      ]
     },
     "execution_count": 27,
     "metadata": {},
     "output_type": "execute_result"
    }
   ],
   "source": [
    "bigsix.iloc[2]"
   ]
  },
  {
   "cell_type": "code",
   "execution_count": 28,
   "id": "90c067ef",
   "metadata": {},
   "outputs": [],
   "source": [
    "df=pd.DataFrame({'姓名':['林小明','陳聰明','黃美麗','張曉娟','廖小城'],\n",
    "                  '國文':[65,92,79,83,70],\n",
    "                  '英文':[90,72,76,93,56],\n",
    "                  '數學':[81,85,91,89,77],\n",
    "                  '社會':[79,53,47,94,80]})\n"
   ]
  },
  {
   "cell_type": "code",
   "execution_count": 29,
   "id": "b994d17f",
   "metadata": {},
   "outputs": [
    {
     "name": "stdout",
     "output_type": "stream",
     "text": [
      "RangeIndex(start=0, stop=5, step=1)\n"
     ]
    }
   ],
   "source": [
    "print(df.index)"
   ]
  },
  {
   "cell_type": "code",
   "execution_count": 30,
   "id": "24f50a5e",
   "metadata": {},
   "outputs": [
    {
     "name": "stdout",
     "output_type": "stream",
     "text": [
      "Index(['姓名', '國文', '英文', '數學', '社會'], dtype='object')\n"
     ]
    }
   ],
   "source": [
    "print(df.columns)"
   ]
  },
  {
   "cell_type": "code",
   "execution_count": 31,
   "id": "8499d5f0",
   "metadata": {},
   "outputs": [
    {
     "name": "stdout",
     "output_type": "stream",
     "text": [
      "[['林小明' 65 90 81 79]\n",
      " ['陳聰明' 92 72 85 53]\n",
      " ['黃美麗' 79 76 91 47]\n",
      " ['張曉娟' 83 93 89 94]\n",
      " ['廖小城' 70 56 77 80]]\n"
     ]
    }
   ],
   "source": [
    "print(df.values)"
   ]
  },
  {
   "cell_type": "code",
   "execution_count": 32,
   "id": "0779cca8",
   "metadata": {},
   "outputs": [
    {
     "name": "stdout",
     "output_type": "stream",
     "text": [
      "['林小明' 65 90 81 79]\n"
     ]
    }
   ],
   "source": [
    "print(df.values[0])"
   ]
  },
  {
   "cell_type": "code",
   "execution_count": 34,
   "id": "67c84af6",
   "metadata": {},
   "outputs": [
    {
     "name": "stdout",
     "output_type": "stream",
     "text": [
      "['林小明' 65 90 81 79]\n",
      "['陳聰明' 92 72 85 53]\n",
      "['黃美麗' 79 76 91 47]\n",
      "['張曉娟' 83 93 89 94]\n",
      "['廖小城' 70 56 77 80]\n"
     ]
    }
   ],
   "source": [
    "for row in df.values:\n",
    "    print(row)"
   ]
  },
  {
   "cell_type": "code",
   "execution_count": 35,
   "id": "37485068",
   "metadata": {},
   "outputs": [
    {
     "name": "stdout",
     "output_type": "stream",
     "text": [
      "0    65\n",
      "1    92\n",
      "2    79\n",
      "3    83\n",
      "4    70\n",
      "Name: 國文, dtype: int64\n"
     ]
    }
   ],
   "source": [
    "print(df['國文'])"
   ]
  },
  {
   "cell_type": "code",
   "execution_count": 36,
   "id": "746374b6",
   "metadata": {},
   "outputs": [
    {
     "name": "stdout",
     "output_type": "stream",
     "text": [
      "65\n"
     ]
    }
   ],
   "source": [
    "print(df.values[0][1])\n"
   ]
  },
  {
   "cell_type": "code",
   "execution_count": 56,
   "id": "cdd2b9d9",
   "metadata": {},
   "outputs": [
    {
     "name": "stdout",
     "output_type": "stream",
     "text": [
      "65\n"
     ]
    }
   ],
   "source": [
    "print(df.iloc[0,1])"
   ]
  },
  {
   "cell_type": "code",
   "execution_count": 43,
   "id": "60ac311b",
   "metadata": {},
   "outputs": [
    {
     "name": "stdout",
     "output_type": "stream",
     "text": [
      "65\n"
     ]
    }
   ],
   "source": [
    "print(df.loc[0,'國文'])"
   ]
  },
  {
   "cell_type": "code",
   "execution_count": 49,
   "id": "27f522c9",
   "metadata": {},
   "outputs": [],
   "source": [
    "df1=df.set_index('姓名')\n"
   ]
  },
  {
   "cell_type": "code",
   "execution_count": 50,
   "id": "27579199",
   "metadata": {},
   "outputs": [
    {
     "data": {
      "text/plain": [
       "Index(['林小明', '陳聰明', '黃美麗', '張曉娟', '廖小城'], dtype='object', name='姓名')"
      ]
     },
     "execution_count": 50,
     "metadata": {},
     "output_type": "execute_result"
    }
   ],
   "source": [
    "df1.index"
   ]
  },
  {
   "cell_type": "code",
   "execution_count": 51,
   "id": "857e0aae",
   "metadata": {},
   "outputs": [
    {
     "data": {
      "text/plain": [
       "姓名\n",
       "林小明    65\n",
       "陳聰明    92\n",
       "黃美麗    79\n",
       "張曉娟    83\n",
       "廖小城    70\n",
       "Name: 國文, dtype: int64"
      ]
     },
     "execution_count": 51,
     "metadata": {},
     "output_type": "execute_result"
    }
   ],
   "source": [
    "df1['國文']"
   ]
  },
  {
   "cell_type": "code",
   "execution_count": 52,
   "id": "c13314db",
   "metadata": {},
   "outputs": [
    {
     "data": {
      "text/plain": [
       "0    65\n",
       "1    92\n",
       "2    79\n",
       "3    83\n",
       "4    70\n",
       "Name: 國文, dtype: int64"
      ]
     },
     "execution_count": 52,
     "metadata": {},
     "output_type": "execute_result"
    }
   ],
   "source": [
    "df['國文']"
   ]
  },
  {
   "cell_type": "code",
   "execution_count": 53,
   "id": "707be753",
   "metadata": {},
   "outputs": [
    {
     "data": {
      "text/html": [
       "<div>\n",
       "<style scoped>\n",
       "    .dataframe tbody tr th:only-of-type {\n",
       "        vertical-align: middle;\n",
       "    }\n",
       "\n",
       "    .dataframe tbody tr th {\n",
       "        vertical-align: top;\n",
       "    }\n",
       "\n",
       "    .dataframe thead th {\n",
       "        text-align: right;\n",
       "    }\n",
       "</style>\n",
       "<table border=\"1\" class=\"dataframe\">\n",
       "  <thead>\n",
       "    <tr style=\"text-align: right;\">\n",
       "      <th></th>\n",
       "      <th>國文</th>\n",
       "      <th>英文</th>\n",
       "    </tr>\n",
       "    <tr>\n",
       "      <th>姓名</th>\n",
       "      <th></th>\n",
       "      <th></th>\n",
       "    </tr>\n",
       "  </thead>\n",
       "  <tbody>\n",
       "    <tr>\n",
       "      <th>林小明</th>\n",
       "      <td>65</td>\n",
       "      <td>90</td>\n",
       "    </tr>\n",
       "    <tr>\n",
       "      <th>陳聰明</th>\n",
       "      <td>92</td>\n",
       "      <td>72</td>\n",
       "    </tr>\n",
       "    <tr>\n",
       "      <th>黃美麗</th>\n",
       "      <td>79</td>\n",
       "      <td>76</td>\n",
       "    </tr>\n",
       "    <tr>\n",
       "      <th>張曉娟</th>\n",
       "      <td>83</td>\n",
       "      <td>93</td>\n",
       "    </tr>\n",
       "    <tr>\n",
       "      <th>廖小城</th>\n",
       "      <td>70</td>\n",
       "      <td>56</td>\n",
       "    </tr>\n",
       "  </tbody>\n",
       "</table>\n",
       "</div>"
      ],
      "text/plain": [
       "     國文  英文\n",
       "姓名         \n",
       "林小明  65  90\n",
       "陳聰明  92  72\n",
       "黃美麗  79  76\n",
       "張曉娟  83  93\n",
       "廖小城  70  56"
      ]
     },
     "execution_count": 53,
     "metadata": {},
     "output_type": "execute_result"
    }
   ],
   "source": [
    "df1[['國文','英文']]"
   ]
  },
  {
   "cell_type": "code",
   "execution_count": 54,
   "id": "1836cc2f",
   "metadata": {},
   "outputs": [
    {
     "data": {
      "text/plain": [
       "國文    65\n",
       "英文    90\n",
       "數學    81\n",
       "社會    79\n",
       "Name: 林小明, dtype: int64"
      ]
     },
     "execution_count": 54,
     "metadata": {},
     "output_type": "execute_result"
    }
   ],
   "source": [
    "df1.iloc[0]"
   ]
  },
  {
   "cell_type": "code",
   "execution_count": 57,
   "id": "dd2e2648",
   "metadata": {},
   "outputs": [
    {
     "data": {
      "text/plain": [
       "國文    65\n",
       "英文    90\n",
       "數學    81\n",
       "社會    79\n",
       "Name: 林小明, dtype: int64"
      ]
     },
     "execution_count": 57,
     "metadata": {},
     "output_type": "execute_result"
    }
   ],
   "source": [
    "df1.loc['林小明']"
   ]
  },
  {
   "cell_type": "code",
   "execution_count": 58,
   "id": "02d3e341",
   "metadata": {},
   "outputs": [
    {
     "data": {
      "text/html": [
       "<div>\n",
       "<style scoped>\n",
       "    .dataframe tbody tr th:only-of-type {\n",
       "        vertical-align: middle;\n",
       "    }\n",
       "\n",
       "    .dataframe tbody tr th {\n",
       "        vertical-align: top;\n",
       "    }\n",
       "\n",
       "    .dataframe thead th {\n",
       "        text-align: right;\n",
       "    }\n",
       "</style>\n",
       "<table border=\"1\" class=\"dataframe\">\n",
       "  <thead>\n",
       "    <tr style=\"text-align: right;\">\n",
       "      <th></th>\n",
       "      <th>姓名</th>\n",
       "      <th>國文</th>\n",
       "      <th>英文</th>\n",
       "      <th>數學</th>\n",
       "      <th>社會</th>\n",
       "    </tr>\n",
       "  </thead>\n",
       "  <tbody>\n",
       "    <tr>\n",
       "      <th>1</th>\n",
       "      <td>陳聰明</td>\n",
       "      <td>92</td>\n",
       "      <td>72</td>\n",
       "      <td>85</td>\n",
       "      <td>53</td>\n",
       "    </tr>\n",
       "  </tbody>\n",
       "</table>\n",
       "</div>"
      ],
      "text/plain": [
       "    姓名  國文  英文  數學  社會\n",
       "1  陳聰明  92  72  85  53"
      ]
     },
     "execution_count": 58,
     "metadata": {},
     "output_type": "execute_result"
    }
   ],
   "source": [
    "df[df['姓名']=='陳聰明']"
   ]
  },
  {
   "cell_type": "code",
   "execution_count": 62,
   "id": "7e476168",
   "metadata": {},
   "outputs": [
    {
     "data": {
      "text/html": [
       "<div>\n",
       "<style scoped>\n",
       "    .dataframe tbody tr th:only-of-type {\n",
       "        vertical-align: middle;\n",
       "    }\n",
       "\n",
       "    .dataframe tbody tr th {\n",
       "        vertical-align: top;\n",
       "    }\n",
       "\n",
       "    .dataframe thead th {\n",
       "        text-align: right;\n",
       "    }\n",
       "</style>\n",
       "<table border=\"1\" class=\"dataframe\">\n",
       "  <thead>\n",
       "    <tr style=\"text-align: right;\">\n",
       "      <th></th>\n",
       "      <th>姓名</th>\n",
       "      <th>國文</th>\n",
       "      <th>英文</th>\n",
       "      <th>數學</th>\n",
       "      <th>社會</th>\n",
       "    </tr>\n",
       "  </thead>\n",
       "  <tbody>\n",
       "    <tr>\n",
       "      <th>0</th>\n",
       "      <td>林小明</td>\n",
       "      <td>65</td>\n",
       "      <td>90</td>\n",
       "      <td>81</td>\n",
       "      <td>79</td>\n",
       "    </tr>\n",
       "    <tr>\n",
       "      <th>3</th>\n",
       "      <td>張曉娟</td>\n",
       "      <td>83</td>\n",
       "      <td>93</td>\n",
       "      <td>89</td>\n",
       "      <td>94</td>\n",
       "    </tr>\n",
       "  </tbody>\n",
       "</table>\n",
       "</div>"
      ],
      "text/plain": [
       "    姓名  國文  英文  數學  社會\n",
       "0  林小明  65  90  81  79\n",
       "3  張曉娟  83  93  89  94"
      ]
     },
     "execution_count": 62,
     "metadata": {},
     "output_type": "execute_result"
    }
   ],
   "source": [
    "df[df['英文']>80]"
   ]
  },
  {
   "cell_type": "code",
   "execution_count": 65,
   "id": "ee112b70",
   "metadata": {},
   "outputs": [
    {
     "data": {
      "text/plain": [
       "<bound method DataFrame.value_counts of      國文  英文  數學  社會\n",
       "姓名                 \n",
       "林小明  65  90  81  79\n",
       "陳聰明  92  72  85  53\n",
       "黃美麗  79  76  91  47\n",
       "張曉娟  83  93  89  94\n",
       "廖小城  70  56  77  80>"
      ]
     },
     "execution_count": 65,
     "metadata": {},
     "output_type": "execute_result"
    }
   ],
   "source": [
    "df1.value_counts"
   ]
  }
 ],
 "metadata": {
  "kernelspec": {
   "display_name": "mlops_env",
   "language": "python",
   "name": "python3"
  },
  "language_info": {
   "codemirror_mode": {
    "name": "ipython",
    "version": 3
   },
   "file_extension": ".py",
   "mimetype": "text/x-python",
   "name": "python",
   "nbconvert_exporter": "python",
   "pygments_lexer": "ipython3",
   "version": "3.13.2"
  }
 },
 "nbformat": 4,
 "nbformat_minor": 5
}
