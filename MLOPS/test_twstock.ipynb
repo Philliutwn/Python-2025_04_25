{
 "cells": [
  {
   "cell_type": "code",
   "execution_count": 2,
   "id": "e81b204c",
   "metadata": {},
   "outputs": [
    {
     "ename": "ModuleNotFoundError",
     "evalue": "No module named 'lxml'",
     "output_type": "error",
     "traceback": [
      "\u001b[31m---------------------------------------------------------------------------\u001b[39m",
      "\u001b[31mModuleNotFoundError\u001b[39m                       Traceback (most recent call last)",
      "\u001b[36mCell\u001b[39m\u001b[36m \u001b[39m\u001b[32mIn[2]\u001b[39m\u001b[32m, line 1\u001b[39m\n\u001b[32m----> \u001b[39m\u001b[32m1\u001b[39m \u001b[38;5;28;01mimport\u001b[39;00m\u001b[38;5;250m \u001b[39m\u001b[34;01mtwstock\u001b[39;00m\n\u001b[32m      2\u001b[39m \u001b[38;5;28;01mimport\u001b[39;00m\u001b[38;5;250m \u001b[39m\u001b[34;01mpandas\u001b[39;00m\u001b[38;5;250m \u001b[39m\u001b[38;5;28;01mas\u001b[39;00m\u001b[38;5;250m \u001b[39m\u001b[34;01mpd\u001b[39;00m\n\u001b[32m      3\u001b[39m \u001b[38;5;66;03m# 導入twstock及pandas模組，pandas模組縮寫為pd\u001b[39;00m\n",
      "\u001b[36mFile \u001b[39m\u001b[32md:\\Github\\Python-2025_04_25\\MLOPS\\mlops_env\\Lib\\site-packages\\twstock\\__init__.py:3\u001b[39m\n\u001b[32m      1\u001b[39m \u001b[33;03m\"\"\"Taiwan Stock Opendata with realtime - twstock\"\"\"\u001b[39;00m\n\u001b[32m----> \u001b[39m\u001b[32m3\u001b[39m \u001b[38;5;28;01mfrom\u001b[39;00m\u001b[38;5;250m \u001b[39m\u001b[34;01mtwstock\u001b[39;00m\u001b[38;5;250m \u001b[39m\u001b[38;5;28;01mimport\u001b[39;00m stock\n\u001b[32m      4\u001b[39m \u001b[38;5;28;01mfrom\u001b[39;00m\u001b[38;5;250m \u001b[39m\u001b[34;01mtwstock\u001b[39;00m\u001b[38;5;250m \u001b[39m\u001b[38;5;28;01mimport\u001b[39;00m analytics\n\u001b[32m      5\u001b[39m \u001b[38;5;28;01mfrom\u001b[39;00m\u001b[38;5;250m \u001b[39m\u001b[34;01mtwstock\u001b[39;00m\u001b[38;5;250m \u001b[39m\u001b[38;5;28;01mimport\u001b[39;00m cli\n",
      "\u001b[36mFile \u001b[39m\u001b[32md:\\Github\\Python-2025_04_25\\MLOPS\\mlops_env\\Lib\\site-packages\\twstock\\stock.py:22\u001b[39m\n\u001b[32m     19\u001b[39m \u001b[38;5;28;01mexcept\u001b[39;00m \u001b[38;5;167;01mImportError\u001b[39;00m \u001b[38;5;28;01mas\u001b[39;00m e:\n\u001b[32m     20\u001b[39m     \u001b[38;5;28;01mif\u001b[39;00m e.name == \u001b[33m\"\u001b[39m\u001b[33mlxml\u001b[39m\u001b[33m\"\u001b[39m:\n\u001b[32m     21\u001b[39m         \u001b[38;5;66;03m# Fix #69\u001b[39;00m\n\u001b[32m---> \u001b[39m\u001b[32m22\u001b[39m         \u001b[38;5;28;01mraise\u001b[39;00m e\n\u001b[32m     23\u001b[39m     \u001b[38;5;28;01mimport\u001b[39;00m\u001b[38;5;250m \u001b[39m\u001b[34;01manalytics\u001b[39;00m\n\u001b[32m     24\u001b[39m     \u001b[38;5;28;01mfrom\u001b[39;00m\u001b[38;5;250m \u001b[39m\u001b[34;01mcodes\u001b[39;00m\u001b[38;5;250m \u001b[39m\u001b[38;5;28;01mimport\u001b[39;00m codes\n",
      "\u001b[36mFile \u001b[39m\u001b[32md:\\Github\\Python-2025_04_25\\MLOPS\\mlops_env\\Lib\\site-packages\\twstock\\stock.py:18\u001b[39m\n\u001b[32m     16\u001b[39m \u001b[38;5;28;01mtry\u001b[39;00m:\n\u001b[32m     17\u001b[39m     \u001b[38;5;28;01mfrom\u001b[39;00m\u001b[38;5;250m \u001b[39m\u001b[34;01m.\u001b[39;00m\u001b[38;5;250m \u001b[39m\u001b[38;5;28;01mimport\u001b[39;00m analytics\n\u001b[32m---> \u001b[39m\u001b[32m18\u001b[39m     \u001b[38;5;28;01mfrom\u001b[39;00m\u001b[38;5;250m \u001b[39m\u001b[34;01m.\u001b[39;00m\u001b[34;01mcodes\u001b[39;00m\u001b[38;5;250m \u001b[39m\u001b[38;5;28;01mimport\u001b[39;00m codes\n\u001b[32m     19\u001b[39m \u001b[38;5;28;01mexcept\u001b[39;00m \u001b[38;5;167;01mImportError\u001b[39;00m \u001b[38;5;28;01mas\u001b[39;00m e:\n\u001b[32m     20\u001b[39m     \u001b[38;5;28;01mif\u001b[39;00m e.name == \u001b[33m\"\u001b[39m\u001b[33mlxml\u001b[39m\u001b[33m\"\u001b[39m:\n\u001b[32m     21\u001b[39m         \u001b[38;5;66;03m# Fix #69\u001b[39;00m\n",
      "\u001b[36mFile \u001b[39m\u001b[32md:\\Github\\Python-2025_04_25\\MLOPS\\mlops_env\\Lib\\site-packages\\twstock\\codes\\__init__.py:1\u001b[39m\n\u001b[32m----> \u001b[39m\u001b[32m1\u001b[39m \u001b[38;5;28;01mfrom\u001b[39;00m\u001b[38;5;250m \u001b[39m\u001b[34;01m.\u001b[39;00m\u001b[34;01mfetch\u001b[39;00m\u001b[38;5;250m \u001b[39m\u001b[38;5;28;01mimport\u001b[39;00m __update_codes\n\u001b[32m      2\u001b[39m \u001b[38;5;28;01mfrom\u001b[39;00m\u001b[38;5;250m \u001b[39m\u001b[34;01m.\u001b[39;00m\u001b[34;01mcodes\u001b[39;00m\u001b[38;5;250m \u001b[39m\u001b[38;5;28;01mimport\u001b[39;00m codes, tpex, twse\n",
      "\u001b[36mFile \u001b[39m\u001b[32md:\\Github\\Python-2025_04_25\\MLOPS\\mlops_env\\Lib\\site-packages\\twstock\\codes\\fetch.py:14\u001b[39m\n\u001b[32m     11\u001b[39m \u001b[38;5;28;01mfrom\u001b[39;00m\u001b[38;5;250m \u001b[39m\u001b[34;01mcollections\u001b[39;00m\u001b[38;5;250m \u001b[39m\u001b[38;5;28;01mimport\u001b[39;00m namedtuple\n\u001b[32m     13\u001b[39m \u001b[38;5;28;01mimport\u001b[39;00m\u001b[38;5;250m \u001b[39m\u001b[34;01mrequests\u001b[39;00m\n\u001b[32m---> \u001b[39m\u001b[32m14\u001b[39m \u001b[38;5;28;01mfrom\u001b[39;00m\u001b[38;5;250m \u001b[39m\u001b[34;01mlxml\u001b[39;00m\u001b[38;5;250m \u001b[39m\u001b[38;5;28;01mimport\u001b[39;00m etree\n\u001b[32m     16\u001b[39m \u001b[38;5;28;01mfrom\u001b[39;00m\u001b[38;5;250m \u001b[39m\u001b[34;01mtwstock\u001b[39;00m\u001b[34;01m.\u001b[39;00m\u001b[34;01mproxy\u001b[39;00m\u001b[38;5;250m \u001b[39m\u001b[38;5;28;01mimport\u001b[39;00m get_proxies\n\u001b[32m     18\u001b[39m TWSE_EQUITIES_URL = \u001b[33m\"\u001b[39m\u001b[33mhttps://isin.twse.com.tw/isin/C_public.jsp?strMode=2\u001b[39m\u001b[33m\"\u001b[39m\n",
      "\u001b[31mModuleNotFoundError\u001b[39m: No module named 'lxml'"
     ]
    }
   ],
   "source": [
    "import twstock\n",
    "import pandas as pd\n",
    "# 導入twstock及pandas模組，pandas模組縮寫為pd\n",
    "\n",
    "target_stock = '2330'  #股票代號變數\n",
    "stock = twstock.Stock(target_stock)  #告訴twstock我們要查詢的股票\n",
    "target_price = stock.fetch_from(2020, 1)  #取用2020/05至今每天的交易資料\n",
    "\n",
    "name_attribute = [\n",
    "    'Date', 'Capacity', 'Volume', 'Open', 'High', 'Low', 'Close', 'Change',\n",
    "    'Transcation'\n",
    "]  #幫收集到的資料設定表頭\n",
    "\n",
    "df = pd.DataFrame(columns=name_attribute, data=target_price)\n",
    "#將twstock抓到的清單轉成Data Frame格式的資料表\n",
    "\n",
    "filename = f'./{target_stock}twstock.csv'\n",
    "#指定Data Frame轉存csv檔案的檔名與路徑\n",
    "\n",
    "df.to_csv(filename)\n",
    "#將Data Frame轉存為csv檔案"
   ]
  }
 ],
 "metadata": {
  "kernelspec": {
   "display_name": "mlops_env",
   "language": "python",
   "name": "python3"
  },
  "language_info": {
   "codemirror_mode": {
    "name": "ipython",
    "version": 3
   },
   "file_extension": ".py",
   "mimetype": "text/x-python",
   "name": "python",
   "nbconvert_exporter": "python",
   "pygments_lexer": "ipython3",
   "version": "3.13.2"
  }
 },
 "nbformat": 4,
 "nbformat_minor": 5
}
